{
 "cells": [
  {
   "cell_type": "code",
   "execution_count": null,
   "id": "779d537c",
   "metadata": {},
   "outputs": [],
   "source": [
    "Introduction to looping statements :"
   ]
  },
  {
   "cell_type": "code",
   "execution_count": null,
   "id": "ac744bff",
   "metadata": {},
   "outputs": [],
   "source": []
  },
  {
   "cell_type": "code",
   "execution_count": null,
   "id": "bf5a62b3",
   "metadata": {},
   "outputs": [],
   "source": [
    "Understanding the concept of for loop :"
   ]
  },
  {
   "cell_type": "code",
   "execution_count": null,
   "id": "aed137df",
   "metadata": {},
   "outputs": [],
   "source": [
    "# General syntax of the for loop :"
   ]
  },
  {
   "cell_type": "code",
   "execution_count": null,
   "id": "b69266a2",
   "metadata": {},
   "outputs": [],
   "source": [
    "# formulae\n",
    "\n",
    "for temp_var in main_var:\n",
    "    print(temp_var)"
   ]
  },
  {
   "cell_type": "code",
   "execution_count": null,
   "id": "73033dda",
   "metadata": {},
   "outputs": [],
   "source": []
  },
  {
   "cell_type": "code",
   "execution_count": 1,
   "id": "369ee3ed",
   "metadata": {},
   "outputs": [],
   "source": [
    "student = ['sunil','naveen','abdul','sneha','iqra','sadiya']"
   ]
  },
  {
   "cell_type": "code",
   "execution_count": 2,
   "id": "14401980",
   "metadata": {},
   "outputs": [
    {
     "name": "stdout",
     "output_type": "stream",
     "text": [
      "['sunil', 'naveen', 'abdul', 'sneha', 'iqra', 'sadiya']\n"
     ]
    }
   ],
   "source": [
    "print(student)"
   ]
  },
  {
   "cell_type": "code",
   "execution_count": 3,
   "id": "6a19dabc",
   "metadata": {},
   "outputs": [
    {
     "data": {
      "text/plain": [
       "list"
      ]
     },
     "execution_count": 3,
     "metadata": {},
     "output_type": "execute_result"
    }
   ],
   "source": [
    "type(student)"
   ]
  },
  {
   "cell_type": "code",
   "execution_count": null,
   "id": "147e0943",
   "metadata": {},
   "outputs": [],
   "source": [
    "# req : I want to appreciate the above students in the list..."
   ]
  },
  {
   "cell_type": "code",
   "execution_count": 4,
   "id": "39752608",
   "metadata": {},
   "outputs": [
    {
     "name": "stdout",
     "output_type": "stream",
     "text": [
      "keep up the good work, Sunil\n"
     ]
    }
   ],
   "source": [
    "print(f\"keep up the good work, {student[0].title()}\")"
   ]
  },
  {
   "cell_type": "code",
   "execution_count": 5,
   "id": "cf075134",
   "metadata": {},
   "outputs": [
    {
     "name": "stdout",
     "output_type": "stream",
     "text": [
      "keep up the good work, Naveen\n"
     ]
    }
   ],
   "source": [
    "print(f\"keep up the good work, {student[1].title()}\")"
   ]
  },
  {
   "cell_type": "code",
   "execution_count": null,
   "id": "c8e19177",
   "metadata": {},
   "outputs": [],
   "source": []
  },
  {
   "cell_type": "code",
   "execution_count": 6,
   "id": "d5808693",
   "metadata": {},
   "outputs": [
    {
     "name": "stdout",
     "output_type": "stream",
     "text": [
      "keep up the good work,sunil\n",
      "keep up the good work,naveen\n",
      "keep up the good work,abdul\n",
      "keep up the good work,sneha\n",
      "keep up the good work,iqra\n",
      "keep up the good work,sadiya\n"
     ]
    }
   ],
   "source": [
    "for x in student:\n",
    "    print(f\"keep up the good work,{x}\")"
   ]
  },
  {
   "cell_type": "code",
   "execution_count": null,
   "id": "95ccffe0",
   "metadata": {},
   "outputs": [],
   "source": [
    "for temp_var in main_var:\n",
    "    print(temp_var)"
   ]
  },
  {
   "cell_type": "code",
   "execution_count": 7,
   "id": "b862b1c8",
   "metadata": {},
   "outputs": [
    {
     "name": "stdout",
     "output_type": "stream",
     "text": [
      "sunil\n",
      "naveen\n",
      "abdul\n",
      "sneha\n",
      "iqra\n",
      "sadiya\n"
     ]
    }
   ],
   "source": [
    "for a in student:\n",
    "    print(a)"
   ]
  },
  {
   "cell_type": "code",
   "execution_count": null,
   "id": "cb243257",
   "metadata": {},
   "outputs": [],
   "source": [
    "# req : I want to remind them that I will be looking forward for the running notes of today."
   ]
  },
  {
   "cell_type": "code",
   "execution_count": 8,
   "id": "f0d0383e",
   "metadata": {},
   "outputs": [
    {
     "name": "stdout",
     "output_type": "stream",
     "text": [
      "keep up the good work, sunil\n",
      "I will be looking forward for today submission, sunil\n",
      "keep up the good work, naveen\n",
      "I will be looking forward for today submission, naveen\n",
      "keep up the good work, abdul\n",
      "I will be looking forward for today submission, abdul\n",
      "keep up the good work, sneha\n",
      "I will be looking forward for today submission, sneha\n",
      "keep up the good work, iqra\n",
      "I will be looking forward for today submission, iqra\n",
      "keep up the good work, sadiya\n",
      "I will be looking forward for today submission, sadiya\n"
     ]
    }
   ],
   "source": [
    "for x in student:\n",
    "    print(f\"keep up the good work, {x}\")\n",
    "    print(f\"I will be looking forward for today submission, {x}\")"
   ]
  },
  {
   "cell_type": "code",
   "execution_count": null,
   "id": "f477e2be",
   "metadata": {},
   "outputs": [],
   "source": [
    "# Enchancement of the code..."
   ]
  },
  {
   "cell_type": "code",
   "execution_count": 9,
   "id": "772e0112",
   "metadata": {},
   "outputs": [
    {
     "name": "stdout",
     "output_type": "stream",
     "text": [
      "keep up the good work, sunil\n",
      "I will be looking forward for today's submission, sunil\n",
      "\n",
      "keep up the good work, naveen\n",
      "I will be looking forward for today's submission, naveen\n",
      "\n",
      "keep up the good work, abdul\n",
      "I will be looking forward for today's submission, abdul\n",
      "\n",
      "keep up the good work, sneha\n",
      "I will be looking forward for today's submission, sneha\n",
      "\n",
      "keep up the good work, iqra\n",
      "I will be looking forward for today's submission, iqra\n",
      "\n",
      "keep up the good work, sadiya\n",
      "I will be looking forward for today's submission, sadiya\n",
      "\n"
     ]
    }
   ],
   "source": [
    "for x in student:\n",
    "    print(f\"keep up the good work, {x}\")\n",
    "    print(f\"I will be looking forward for today's submission, {x}\\n\")"
   ]
  },
  {
   "cell_type": "code",
   "execution_count": null,
   "id": "37c79f88",
   "metadata": {},
   "outputs": [],
   "source": []
  }
 ],
 "metadata": {
  "kernelspec": {
   "display_name": "Python 3 (ipykernel)",
   "language": "python",
   "name": "python3"
  },
  "language_info": {
   "codemirror_mode": {
    "name": "ipython",
    "version": 3
   },
   "file_extension": ".py",
   "mimetype": "text/x-python",
   "name": "python",
   "nbconvert_exporter": "python",
   "pygments_lexer": "ipython3",
   "version": "3.9.13"
  }
 },
 "nbformat": 4,
 "nbformat_minor": 5
}
