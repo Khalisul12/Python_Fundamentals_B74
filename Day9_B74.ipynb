{
 "cells": [
  {
   "cell_type": "code",
   "execution_count": null,
   "id": "5b178e72",
   "metadata": {},
   "outputs": [],
   "source": [
    "Continuation with the dictionary data type :"
   ]
  },
  {
   "cell_type": "code",
   "execution_count": null,
   "id": "3cf04d99",
   "metadata": {},
   "outputs": [],
   "source": []
  },
  {
   "cell_type": "code",
   "execution_count": null,
   "id": "c773c69d",
   "metadata": {},
   "outputs": [],
   "source": [
    "Implementation of for loop in the dictionary :"
   ]
  },
  {
   "cell_type": "code",
   "execution_count": null,
   "id": "4fe493d5",
   "metadata": {},
   "outputs": [],
   "source": []
  },
  {
   "cell_type": "code",
   "execution_count": 1,
   "id": "36956162",
   "metadata": {},
   "outputs": [],
   "source": [
    "aliens = {'color':'green','points':5,'level':1}"
   ]
  },
  {
   "cell_type": "code",
   "execution_count": 2,
   "id": "c25b1bb1",
   "metadata": {},
   "outputs": [
    {
     "name": "stdout",
     "output_type": "stream",
     "text": [
      "{'color': 'green', 'points': 5, 'level': 1}\n"
     ]
    }
   ],
   "source": [
    "print(aliens)"
   ]
  },
  {
   "cell_type": "code",
   "execution_count": null,
   "id": "226806d9",
   "metadata": {},
   "outputs": [],
   "source": []
  },
  {
   "cell_type": "code",
   "execution_count": 3,
   "id": "bc4bd34e",
   "metadata": {},
   "outputs": [
    {
     "data": {
      "text/plain": [
       "dict"
      ]
     },
     "execution_count": 3,
     "metadata": {},
     "output_type": "execute_result"
    }
   ],
   "source": [
    "type(aliens)"
   ]
  },
  {
   "cell_type": "code",
   "execution_count": null,
   "id": "90cc6e5e",
   "metadata": {},
   "outputs": [],
   "source": []
  },
  {
   "cell_type": "code",
   "execution_count": null,
   "id": "069af07e",
   "metadata": {},
   "outputs": [],
   "source": [
    "# General syntax of for loop in the dict:"
   ]
  },
  {
   "cell_type": "code",
   "execution_count": null,
   "id": "d6ae74af",
   "metadata": {},
   "outputs": [],
   "source": [
    "for temp_var1, temp_var2 in main_var.item():\n",
    "    print(temp_var1)\n",
    "    print(temp_var2)"
   ]
  },
  {
   "cell_type": "code",
   "execution_count": null,
   "id": "c182982a",
   "metadata": {},
   "outputs": [],
   "source": []
  },
  {
   "cell_type": "code",
   "execution_count": 5,
   "id": "406d80b9",
   "metadata": {},
   "outputs": [
    {
     "name": "stdout",
     "output_type": "stream",
     "text": [
      "color\n",
      "green\n",
      "points\n",
      "5\n",
      "level\n",
      "1\n"
     ]
    }
   ],
   "source": [
    "for x, y, in aliens.items():\n",
    "    print(x)\n",
    "    print(y)"
   ]
  },
  {
   "cell_type": "code",
   "execution_count": 6,
   "id": "0957e1f8",
   "metadata": {},
   "outputs": [
    {
     "name": "stdout",
     "output_type": "stream",
     "text": [
      "key:color\n",
      "value:green\n",
      "key:points\n",
      "value:5\n",
      "key:level\n",
      "value:1\n"
     ]
    }
   ],
   "source": [
    "for x, y, in aliens.items():\n",
    "    print(f\"key:{x}\")\n",
    "    print(f\"value:{y}\")"
   ]
  },
  {
   "cell_type": "code",
   "execution_count": 7,
   "id": "1fc6124b",
   "metadata": {},
   "outputs": [
    {
     "name": "stdout",
     "output_type": "stream",
     "text": [
      "key:color\n",
      "value:green\n",
      "\n",
      "key:points\n",
      "value:5\n",
      "\n",
      "key:level\n",
      "value:1\n",
      "\n"
     ]
    }
   ],
   "source": [
    "for x, y, in aliens.items():\n",
    "    print(f\"key:{x}\")\n",
    "    print(f\"value:{y}\\n\")"
   ]
  },
  {
   "cell_type": "code",
   "execution_count": null,
   "id": "3d4d0783",
   "metadata": {},
   "outputs": [],
   "source": []
  },
  {
   "cell_type": "code",
   "execution_count": null,
   "id": "56823b6b",
   "metadata": {},
   "outputs": [],
   "source": []
  },
  {
   "cell_type": "code",
   "execution_count": null,
   "id": "9d3f61d9",
   "metadata": {},
   "outputs": [],
   "source": []
  },
  {
   "cell_type": "code",
   "execution_count": null,
   "id": "26f1d839",
   "metadata": {},
   "outputs": [],
   "source": []
  }
 ],
 "metadata": {
  "kernelspec": {
   "display_name": "Python 3 (ipykernel)",
   "language": "python",
   "name": "python3"
  },
  "language_info": {
   "codemirror_mode": {
    "name": "ipython",
    "version": 3
   },
   "file_extension": ".py",
   "mimetype": "text/x-python",
   "name": "python",
   "nbconvert_exporter": "python",
   "pygments_lexer": "ipython3",
   "version": "3.9.13"
  }
 },
 "nbformat": 4,
 "nbformat_minor": 5
}
