{
 "cells": [
  {
   "cell_type": "code",
   "execution_count": null,
   "id": "2e29193f",
   "metadata": {},
   "outputs": [],
   "source": [
    "Genral syntax :"
   ]
  },
  {
   "cell_type": "code",
   "execution_count": null,
   "id": "f687af44",
   "metadata": {},
   "outputs": [],
   "source": []
  },
  {
   "cell_type": "code",
   "execution_count": null,
   "id": "f87cb8af",
   "metadata": {},
   "outputs": [],
   "source": [
    "for tem_var in main_var:\n",
    "    print(tamp_var)"
   ]
  },
  {
   "cell_type": "code",
   "execution_count": null,
   "id": "57d4e507",
   "metadata": {},
   "outputs": [],
   "source": []
  },
  {
   "cell_type": "code",
   "execution_count": 2,
   "id": "64e1117f",
   "metadata": {},
   "outputs": [],
   "source": [
    "students = ['afzal','suresh','naveen','rahul','keerti','shanti']"
   ]
  },
  {
   "cell_type": "code",
   "execution_count": null,
   "id": "519fc72e",
   "metadata": {},
   "outputs": [],
   "source": []
  },
  {
   "cell_type": "code",
   "execution_count": 3,
   "id": "34c00cdb",
   "metadata": {},
   "outputs": [
    {
     "name": "stdout",
     "output_type": "stream",
     "text": [
      "keep up the good work, afzal\n",
      "keep up the good work, suresh\n",
      "keep up the good work, naveen\n",
      "keep up the good work, rahul\n",
      "keep up the good work, keerti\n",
      "keep up the good work, shanti\n"
     ]
    }
   ],
   "source": [
    "for x in students:\n",
    "    print(f\"keep up the good work, {x}\")"
   ]
  },
  {
   "cell_type": "code",
   "execution_count": 4,
   "id": "517a593a",
   "metadata": {},
   "outputs": [
    {
     "name": "stdout",
     "output_type": "stream",
     "text": [
      "keep up the good work, afzal\n",
      "do submit your github url for today, afzal\n",
      "\n",
      "keep up the good work, suresh\n",
      "do submit your github url for today, suresh\n",
      "\n",
      "keep up the good work, naveen\n",
      "do submit your github url for today, naveen\n",
      "\n",
      "keep up the good work, rahul\n",
      "do submit your github url for today, rahul\n",
      "\n",
      "keep up the good work, keerti\n",
      "do submit your github url for today, keerti\n",
      "\n",
      "keep up the good work, shanti\n",
      "do submit your github url for today, shanti\n",
      "\n"
     ]
    }
   ],
   "source": [
    "for x in students:\n",
    "    print(f\"keep up the good work, {x}\")\n",
    "    print(f\"do submit your github url for today, {x}\\n\")"
   ]
  },
  {
   "cell_type": "code",
   "execution_count": 5,
   "id": "0d75e476",
   "metadata": {},
   "outputs": [
    {
     "ename": "SyntaxError",
     "evalue": "unexpected character after line continuation character (3510451425.py, line 3)",
     "output_type": "error",
     "traceback": [
      "\u001b[1;36m  File \u001b[1;32m\"C:\\Users\\hikha\\AppData\\Local\\Temp\\ipykernel_9516\\3510451425.py\"\u001b[1;36m, line \u001b[1;32m3\u001b[0m\n\u001b[1;33m    print(f\"do submit your github url for today, {x}\"\\n)\u001b[0m\n\u001b[1;37m                                                      ^\u001b[0m\n\u001b[1;31mSyntaxError\u001b[0m\u001b[1;31m:\u001b[0m unexpected character after line continuation character\n"
     ]
    }
   ],
   "source": [
    "for x in students:\n",
    "    print(f\"keep up the good work, {x}\")\n",
    "    print(f\"do submit your github url for today, {x}\"\\n)"
   ]
  },
  {
   "cell_type": "code",
   "execution_count": 6,
   "id": "a966d0f8",
   "metadata": {},
   "outputs": [
    {
     "name": "stdout",
     "output_type": "stream",
     "text": [
      "keep up the good work, afzal\n",
      "do submit your github url for today, afzal\n",
      "keep up the good work, suresh\n",
      "do submit your github url for today, suresh\n",
      "keep up the good work, naveen\n",
      "do submit your github url for today, naveen\n",
      "keep up the good work, rahul\n",
      "do submit your github url for today, rahul\n",
      "keep up the good work, keerti\n",
      "do submit your github url for today, keerti\n",
      "keep up the good work, shanti\n",
      "do submit your github url for today, shanti\n"
     ]
    }
   ],
   "source": [
    "for x in students:\n",
    "    print(f\"keep up the good work, {x}\")\n",
    "    print(f\"do submit your github url for today, {x}\")"
   ]
  },
  {
   "cell_type": "code",
   "execution_count": null,
   "id": "5e9f6e18",
   "metadata": {},
   "outputs": [],
   "source": [
    "for x in students:\n",
    "    print(f\"keep up the good work, {x}\") # Indentation"
   ]
  },
  {
   "cell_type": "code",
   "execution_count": 7,
   "id": "92bacb6e",
   "metadata": {},
   "outputs": [
    {
     "ename": "IndentationError",
     "evalue": "expected an indented block (415743777.py, line 2)",
     "output_type": "error",
     "traceback": [
      "\u001b[1;36m  File \u001b[1;32m\"C:\\Users\\hikha\\AppData\\Local\\Temp\\ipykernel_9516\\415743777.py\"\u001b[1;36m, line \u001b[1;32m2\u001b[0m\n\u001b[1;33m    print(f\"keep up the good work, {x}\")\u001b[0m\n\u001b[1;37m    ^\u001b[0m\n\u001b[1;31mIndentationError\u001b[0m\u001b[1;31m:\u001b[0m expected an indented block\n"
     ]
    }
   ],
   "source": [
    "for x in students:\n",
    "print(f\"keep up the good work, {x}\")"
   ]
  },
  {
   "cell_type": "code",
   "execution_count": 8,
   "id": "8aaa099d",
   "metadata": {},
   "outputs": [
    {
     "name": "stdout",
     "output_type": "stream",
     "text": [
      "keep up the good work, afzal\n",
      "do submit your github url for today, afzal\n",
      "\n",
      "keep up the good work, suresh\n",
      "do submit your github url for today, suresh\n",
      "\n",
      "keep up the good work, naveen\n",
      "do submit your github url for today, naveen\n",
      "\n",
      "keep up the good work, rahul\n",
      "do submit your github url for today, rahul\n",
      "\n",
      "keep up the good work, keerti\n",
      "do submit your github url for today, keerti\n",
      "\n",
      "keep up the good work, shanti\n",
      "do submit your github url for today, shanti\n",
      "\n",
      "Thank you all for joining the session\n"
     ]
    }
   ],
   "source": [
    "for x in students:\n",
    "    print(f\"keep up the good work, {x}\")\n",
    "    print(f\"do submit your github url for today, {x}\\n\")\n",
    "    \n",
    "print(\"Thank you all for joining the session\")"
   ]
  },
  {
   "cell_type": "code",
   "execution_count": null,
   "id": "ff202bb0",
   "metadata": {},
   "outputs": [],
   "source": []
  },
  {
   "cell_type": "code",
   "execution_count": null,
   "id": "2e27c7ba",
   "metadata": {},
   "outputs": [],
   "source": [
    "Introduction to tuple type :"
   ]
  },
  {
   "cell_type": "code",
   "execution_count": null,
   "id": "141e5df4",
   "metadata": {},
   "outputs": [],
   "source": [
    "Defination : Am immutable list is called as a tuple datatype.\n",
    "\n",
    "Classification : It is classified as  an immutabke datatype.\n",
    "    \n",
    "How to declare the tuple datatype.....()"
   ]
  },
  {
   "cell_type": "code",
   "execution_count": null,
   "id": "1c98667e",
   "metadata": {},
   "outputs": [],
   "source": []
  },
  {
   "cell_type": "code",
   "execution_count": 9,
   "id": "1778e8f1",
   "metadata": {},
   "outputs": [],
   "source": [
    "students = ('anand','arshad','naveen','padma','bhanu')"
   ]
  },
  {
   "cell_type": "code",
   "execution_count": 10,
   "id": "8780f6ec",
   "metadata": {},
   "outputs": [
    {
     "data": {
      "text/plain": [
       "tuple"
      ]
     },
     "execution_count": 10,
     "metadata": {},
     "output_type": "execute_result"
    }
   ],
   "source": [
    "type(students)"
   ]
  },
  {
   "cell_type": "code",
   "execution_count": null,
   "id": "e866f289",
   "metadata": {},
   "outputs": [],
   "source": [
    "# reg : I want to change anand name to arun...?"
   ]
  },
  {
   "cell_type": "code",
   "execution_count": 11,
   "id": "462c048f",
   "metadata": {},
   "outputs": [
    {
     "ename": "TypeError",
     "evalue": "'tuple' object does not support item assignment",
     "output_type": "error",
     "traceback": [
      "\u001b[1;31m---------------------------------------------------------------------------\u001b[0m",
      "\u001b[1;31mTypeError\u001b[0m                                 Traceback (most recent call last)",
      "\u001b[1;32m~\\AppData\\Local\\Temp\\ipykernel_9516\\1419650845.py\u001b[0m in \u001b[0;36m<module>\u001b[1;34m\u001b[0m\n\u001b[1;32m----> 1\u001b[1;33m \u001b[0mstudents\u001b[0m\u001b[1;33m[\u001b[0m\u001b[1;36m0\u001b[0m\u001b[1;33m]\u001b[0m \u001b[1;33m=\u001b[0m\u001b[1;34m'arun'\u001b[0m\u001b[1;33m\u001b[0m\u001b[1;33m\u001b[0m\u001b[0m\n\u001b[0m",
      "\u001b[1;31mTypeError\u001b[0m: 'tuple' object does not support item assignment"
     ]
    }
   ],
   "source": [
    "students[0] ='arun'"
   ]
  },
  {
   "cell_type": "code",
   "execution_count": 12,
   "id": "df966a5f",
   "metadata": {},
   "outputs": [],
   "source": [
    "dimensions = (200, 50)"
   ]
  },
  {
   "cell_type": "code",
   "execution_count": 13,
   "id": "56675d6a",
   "metadata": {},
   "outputs": [
    {
     "name": "stdout",
     "output_type": "stream",
     "text": [
      "(200, 50)\n"
     ]
    }
   ],
   "source": [
    "print(dimensions)"
   ]
  },
  {
   "cell_type": "code",
   "execution_count": 14,
   "id": "7cabbae0",
   "metadata": {},
   "outputs": [],
   "source": [
    "dimensions = (250, 50)"
   ]
  },
  {
   "cell_type": "code",
   "execution_count": 15,
   "id": "29b4f915",
   "metadata": {},
   "outputs": [
    {
     "name": "stdout",
     "output_type": "stream",
     "text": [
      "(250, 50)\n"
     ]
    }
   ],
   "source": [
    "print(dimensions)"
   ]
  },
  {
   "cell_type": "code",
   "execution_count": 16,
   "id": "79f30e3b",
   "metadata": {},
   "outputs": [
    {
     "name": "stdout",
     "output_type": "stream",
     "text": [
      "('anand', 'arshad', 'naveen', 'padma', 'bhanu')\n"
     ]
    }
   ],
   "source": [
    "print(students)"
   ]
  },
  {
   "cell_type": "code",
   "execution_count": 17,
   "id": "039a1317",
   "metadata": {},
   "outputs": [
    {
     "name": "stdout",
     "output_type": "stream",
     "text": [
      "Arshad\n"
     ]
    }
   ],
   "source": [
    "print(students[1].title())"
   ]
  },
  {
   "cell_type": "code",
   "execution_count": 18,
   "id": "7e4a8dba",
   "metadata": {},
   "outputs": [
    {
     "name": "stdout",
     "output_type": "stream",
     "text": [
      "anand\n",
      "arshad\n",
      "naveen\n",
      "padma\n",
      "bhanu\n"
     ]
    }
   ],
   "source": [
    "for x in students:\n",
    "    print(x)"
   ]
  },
  {
   "cell_type": "code",
   "execution_count": null,
   "id": "d67ec916",
   "metadata": {},
   "outputs": [],
   "source": []
  },
  {
   "cell_type": "code",
   "execution_count": null,
   "id": "9aeeec67",
   "metadata": {},
   "outputs": [],
   "source": [
    "Introduction to dictionaries :***"
   ]
  },
  {
   "cell_type": "code",
   "execution_count": null,
   "id": "1667a4d4",
   "metadata": {},
   "outputs": [],
   "source": [
    "Defination : A dictionaries are the combination of key - value pairs.\n",
    "    \n",
    "Classification : It is classified as a mutable datatype.\n",
    "    \n",
    "How to declare a dictionary...()"
   ]
  }
 ],
 "metadata": {
  "kernelspec": {
   "display_name": "Python 3 (ipykernel)",
   "language": "python",
   "name": "python3"
  },
  "language_info": {
   "codemirror_mode": {
    "name": "ipython",
    "version": 3
   },
   "file_extension": ".py",
   "mimetype": "text/x-python",
   "name": "python",
   "nbconvert_exporter": "python",
   "pygments_lexer": "ipython3",
   "version": "3.9.13"
  }
 },
 "nbformat": 4,
 "nbformat_minor": 5
}
