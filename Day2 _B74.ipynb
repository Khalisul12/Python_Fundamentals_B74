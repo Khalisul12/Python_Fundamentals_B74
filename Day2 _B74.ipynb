{
 "cells": [
  {
   "cell_type": "code",
   "execution_count": 1,
   "id": "d7d0ceea",
   "metadata": {},
   "outputs": [
    {
     "name": "stdout",
     "output_type": "stream",
     "text": [
      "17\n"
     ]
    }
   ],
   "source": [
    "x = 5\n",
    "y = 12\n",
    "z = x+y\n",
    "print(z)"
   ]
  },
  {
   "cell_type": "code",
   "execution_count": null,
   "id": "f48ffae8",
   "metadata": {},
   "outputs": [],
   "source": [
    "Rules for declaring the variables in python :"
   ]
  },
  {
   "cell_type": "code",
   "execution_count": null,
   "id": "46a7b577",
   "metadata": {},
   "outputs": [],
   "source": [
    "Rule 1 : No Namespace while declaring the variable in python"
   ]
  },
  {
   "cell_type": "code",
   "execution_count": 2,
   "id": "0e7aa010",
   "metadata": {},
   "outputs": [
    {
     "ename": "SyntaxError",
     "evalue": "invalid syntax (277700405.py, line 1)",
     "output_type": "error",
     "traceback": [
      "\u001b[1;36m  File \u001b[1;32m\"C:\\Users\\hikha\\AppData\\Local\\Temp\\ipykernel_4052\\277700405.py\"\u001b[1;36m, line \u001b[1;32m1\u001b[0m\n\u001b[1;33m    first name = 'Khalida'\u001b[0m\n\u001b[1;37m          ^\u001b[0m\n\u001b[1;31mSyntaxError\u001b[0m\u001b[1;31m:\u001b[0m invalid syntax\n"
     ]
    }
   ],
   "source": [
    "first name = 'Khalida'\n",
    "print(first name)"
   ]
  },
  {
   "cell_type": "code",
   "execution_count": 3,
   "id": "c0dd09b9",
   "metadata": {},
   "outputs": [
    {
     "name": "stdout",
     "output_type": "stream",
     "text": [
      "Khalida\n"
     ]
    }
   ],
   "source": [
    "firstname = 'Khalida'\n",
    "print(firstname)"
   ]
  },
  {
   "cell_type": "code",
   "execution_count": 4,
   "id": "8ab9deb2",
   "metadata": {},
   "outputs": [
    {
     "name": "stdout",
     "output_type": "stream",
     "text": [
      "Khalida\n"
     ]
    }
   ],
   "source": [
    "first_name = 'Khalida'\n",
    "print(first_name)"
   ]
  },
  {
   "cell_type": "code",
   "execution_count": null,
   "id": "89a87b47",
   "metadata": {},
   "outputs": [],
   "source": [
    "Rule 2 : A variable name should not start with a number **"
   ]
  },
  {
   "cell_type": "code",
   "execution_count": 6,
   "id": "d8f80799",
   "metadata": {},
   "outputs": [
    {
     "ename": "SyntaxError",
     "evalue": "invalid syntax (3414445137.py, line 1)",
     "output_type": "error",
     "traceback": [
      "\u001b[1;36m  File \u001b[1;32m\"C:\\Users\\hikha\\AppData\\Local\\Temp\\ipykernel_4052\\3414445137.py\"\u001b[1;36m, line \u001b[1;32m1\u001b[0m\n\u001b[1;33m    1name = 'rahul'\u001b[0m\n\u001b[1;37m     ^\u001b[0m\n\u001b[1;31mSyntaxError\u001b[0m\u001b[1;31m:\u001b[0m invalid syntax\n"
     ]
    }
   ],
   "source": [
    "1name = 'rahul'\n",
    "print(rahul)"
   ]
  },
  {
   "cell_type": "code",
   "execution_count": 7,
   "id": "4021a53f",
   "metadata": {},
   "outputs": [
    {
     "name": "stdout",
     "output_type": "stream",
     "text": [
      "rahul\n"
     ]
    }
   ],
   "source": [
    "name1 = 'rahul'\n",
    "print(name1)"
   ]
  },
  {
   "cell_type": "code",
   "execution_count": null,
   "id": "87392c97",
   "metadata": {},
   "outputs": [],
   "source": [
    "Rule 3 : A varibale name should not contain any special characters"
   ]
  },
  {
   "cell_type": "code",
   "execution_count": null,
   "id": "870165e9",
   "metadata": {},
   "outputs": [],
   "source": [
    "@ # $ % ^ &"
   ]
  },
  {
   "cell_type": "code",
   "execution_count": 8,
   "id": "f29f97ea",
   "metadata": {},
   "outputs": [
    {
     "ename": "SyntaxError",
     "evalue": "invalid syntax (601139238.py, line 2)",
     "output_type": "error",
     "traceback": [
      "\u001b[1;36m  File \u001b[1;32m\"C:\\Users\\hikha\\AppData\\Local\\Temp\\ipykernel_4052\\601139238.py\"\u001b[1;36m, line \u001b[1;32m2\u001b[0m\n\u001b[1;33m    print(name@)\u001b[0m\n\u001b[1;37m               ^\u001b[0m\n\u001b[1;31mSyntaxError\u001b[0m\u001b[1;31m:\u001b[0m invalid syntax\n"
     ]
    }
   ],
   "source": [
    "name@= 'divya'\n",
    "print(name@)"
   ]
  },
  {
   "cell_type": "code",
   "execution_count": null,
   "id": "87f81125",
   "metadata": {},
   "outputs": [],
   "source": [
    "introduction to datatypes in python :\n",
    "    1 strings =====> str\n",
    "    2 lists =======> list\n",
    "    3 Numbers =====> integers(int) and float(decimals)  \n",
    "    4 tuples ======> tuple\n",
    "    5 dictionaries ==> dict"
   ]
  },
  {
   "cell_type": "code",
   "execution_count": null,
   "id": "7bb4cc7f",
   "metadata": {},
   "outputs": [],
   "source": []
  },
  {
   "cell_type": "code",
   "execution_count": null,
   "id": "cd0eec7b",
   "metadata": {},
   "outputs": [],
   "source": [
    "Classification of datatypes :\n",
    "    Broadly data types are classified into two categories :\n",
    "        1 mutable type --------> which we can edit or alter ------> flexible in nature.\n",
    "        2 immutable type ------> which we cannot edit or alter -----> fixed in nature."
   ]
  },
  {
   "cell_type": "code",
   "execution_count": null,
   "id": "96d2a555",
   "metadata": {},
   "outputs": [],
   "source": []
  },
  {
   "cell_type": "code",
   "execution_count": null,
   "id": "b419f098",
   "metadata": {},
   "outputs": [],
   "source": [
    "Introduction to string datatypes :\n",
    "    \n",
    "Defination : A string is series of characters declared in quotes.\n",
    "Classification : It is classified as a immutable datatype.\n",
    "    \n",
    "How to declare the string datatype------------->\n",
    "1) Single quote\n",
    "2) Double quote"
   ]
  },
  {
   "cell_type": "code",
   "execution_count": null,
   "id": "e5150312",
   "metadata": {},
   "outputs": [],
   "source": []
  },
  {
   "cell_type": "code",
   "execution_count": 9,
   "id": "d7168c17",
   "metadata": {},
   "outputs": [
    {
     "name": "stdout",
     "output_type": "stream",
     "text": [
      "jhon\n"
     ]
    }
   ],
   "source": [
    "name = 'jhon'\n",
    "print(name)"
   ]
  },
  {
   "cell_type": "code",
   "execution_count": 10,
   "id": "d21d8833",
   "metadata": {},
   "outputs": [
    {
     "name": "stdout",
     "output_type": "stream",
     "text": [
      "peter\n"
     ]
    }
   ],
   "source": [
    "name2 = \"peter\"\n",
    "print(name2)"
   ]
  },
  {
   "cell_type": "code",
   "execution_count": null,
   "id": "99615362",
   "metadata": {},
   "outputs": [],
   "source": [
    "Introduction to string methods :\n",
    "    Methords are nothing but builting programs that are available in python to use directly."
   ]
  },
  {
   "cell_type": "code",
   "execution_count": 11,
   "id": "04df3ff9",
   "metadata": {},
   "outputs": [
    {
     "data": {
      "text/plain": [
       "str"
      ]
     },
     "execution_count": 11,
     "metadata": {},
     "output_type": "execute_result"
    }
   ],
   "source": [
    "type(name)"
   ]
  },
  {
   "cell_type": "code",
   "execution_count": 12,
   "id": "586b735d",
   "metadata": {},
   "outputs": [
    {
     "data": {
      "text/plain": [
       "str"
      ]
     },
     "execution_count": 12,
     "metadata": {},
     "output_type": "execute_result"
    }
   ],
   "source": [
    "type(name2)"
   ]
  },
  {
   "cell_type": "code",
   "execution_count": 13,
   "id": "7eecf3dc",
   "metadata": {},
   "outputs": [
    {
     "name": "stdout",
     "output_type": "stream",
     "text": [
      "bhanu chandra\n"
     ]
    }
   ],
   "source": [
    "fullname = 'bhanu chandra'\n",
    "print(fullname)"
   ]
  },
  {
   "cell_type": "code",
   "execution_count": null,
   "id": "bdc3e1ab",
   "metadata": {},
   "outputs": [],
   "source": [
    "# req : to get the right format"
   ]
  },
  {
   "cell_type": "code",
   "execution_count": 17,
   "id": "e1123840",
   "metadata": {},
   "outputs": [
    {
     "name": "stdout",
     "output_type": "stream",
     "text": [
      "Bhanu Chandra\n"
     ]
    }
   ],
   "source": [
    "print(fullname.title())"
   ]
  },
  {
   "cell_type": "code",
   "execution_count": null,
   "id": "b8b2ac27",
   "metadata": {},
   "outputs": [],
   "source": [
    "# req : to get the name in capital letter"
   ]
  },
  {
   "cell_type": "code",
   "execution_count": 18,
   "id": "227789b1",
   "metadata": {},
   "outputs": [
    {
     "name": "stdout",
     "output_type": "stream",
     "text": [
      "BHANU CHANDRA\n"
     ]
    }
   ],
   "source": [
    "print(fullname.upper())"
   ]
  },
  {
   "cell_type": "code",
   "execution_count": null,
   "id": "f13d4260",
   "metadata": {},
   "outputs": [],
   "source": [
    "# req : to get the name in small letter"
   ]
  },
  {
   "cell_type": "code",
   "execution_count": 19,
   "id": "bef9a25e",
   "metadata": {},
   "outputs": [
    {
     "name": "stdout",
     "output_type": "stream",
     "text": [
      "bhanu chandra\n"
     ]
    }
   ],
   "source": [
    "print(fullname.lower())"
   ]
  },
  {
   "cell_type": "code",
   "execution_count": null,
   "id": "073feee3",
   "metadata": {},
   "outputs": [],
   "source": []
  }
 ],
 "metadata": {
  "kernelspec": {
   "display_name": "Python 3 (ipykernel)",
   "language": "python",
   "name": "python3"
  },
  "language_info": {
   "codemirror_mode": {
    "name": "ipython",
    "version": 3
   },
   "file_extension": ".py",
   "mimetype": "text/x-python",
   "name": "python",
   "nbconvert_exporter": "python",
   "pygments_lexer": "ipython3",
   "version": "3.9.13"
  }
 },
 "nbformat": 4,
 "nbformat_minor": 5
}
