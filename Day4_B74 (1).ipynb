{
 "cells": [
  {
   "cell_type": "code",
   "execution_count": null,
   "id": "a6e925aa",
   "metadata": {},
   "outputs": [],
   "source": [
    "Introduction to list datatype :"
   ]
  },
  {
   "cell_type": "code",
   "execution_count": null,
   "id": "2d382a86",
   "metadata": {},
   "outputs": [],
   "source": [
    "Defination : It is a collection of items declared in a particular order.\n",
    "Classification : it is classified as an mutable datatype\n",
    "    \n",
    "How to declare the list datatype.....?====== []    "
   ]
  },
  {
   "cell_type": "code",
   "execution_count": null,
   "id": "cb1442e7",
   "metadata": {},
   "outputs": [],
   "source": []
  },
  {
   "cell_type": "code",
   "execution_count": 1,
   "id": "28f23520",
   "metadata": {},
   "outputs": [],
   "source": [
    "students = ['ravi', 'divya', 'sadiya', 'naveen', 'ahmed', 'suresh']"
   ]
  },
  {
   "cell_type": "code",
   "execution_count": 2,
   "id": "31ec9109",
   "metadata": {},
   "outputs": [
    {
     "name": "stdout",
     "output_type": "stream",
     "text": [
      "['ravi', 'divya', 'sadiya', 'naveen', 'ahmed', 'suresh']\n"
     ]
    }
   ],
   "source": [
    "print(students)"
   ]
  },
  {
   "cell_type": "code",
   "execution_count": 3,
   "id": "66bf2d3c",
   "metadata": {},
   "outputs": [
    {
     "data": {
      "text/plain": [
       "list"
      ]
     },
     "execution_count": 3,
     "metadata": {},
     "output_type": "execute_result"
    }
   ],
   "source": [
    "type(students)"
   ]
  },
  {
   "cell_type": "code",
   "execution_count": null,
   "id": "241dd170",
   "metadata": {},
   "outputs": [],
   "source": [
    "Introduction to indexing : 0,1,2,3,4,........"
   ]
  },
  {
   "cell_type": "code",
   "execution_count": 4,
   "id": "b268b84d",
   "metadata": {},
   "outputs": [],
   "source": [
    "# req : I want to get the divyas name in the otput..?"
   ]
  },
  {
   "cell_type": "code",
   "execution_count": 5,
   "id": "f23b2308",
   "metadata": {},
   "outputs": [
    {
     "name": "stdout",
     "output_type": "stream",
     "text": [
      "divya\n"
     ]
    }
   ],
   "source": [
    "print(students[1])"
   ]
  },
  {
   "cell_type": "code",
   "execution_count": 6,
   "id": "8a71b922",
   "metadata": {},
   "outputs": [],
   "source": [
    "# ahmad name....?"
   ]
  },
  {
   "cell_type": "code",
   "execution_count": 7,
   "id": "895b15a9",
   "metadata": {},
   "outputs": [
    {
     "name": "stdout",
     "output_type": "stream",
     "text": [
      "Ahmed\n"
     ]
    }
   ],
   "source": [
    "print(students[4].title())"
   ]
  },
  {
   "cell_type": "code",
   "execution_count": 8,
   "id": "17c8410a",
   "metadata": {},
   "outputs": [
    {
     "name": "stdout",
     "output_type": "stream",
     "text": [
      "['ravi', 'divya', 'sadiya', 'naveen', 'ahmed', 'suresh']\n"
     ]
    }
   ],
   "source": [
    "print(students)"
   ]
  },
  {
   "cell_type": "code",
   "execution_count": null,
   "id": "8e2c82a5",
   "metadata": {},
   "outputs": [],
   "source": [
    "1. How to add new students (elements) to the list....?\n",
    "\n",
    "2. How to modify the students in the list....?\n",
    "\n",
    "3. How to delete the students in the list....?"
   ]
  },
  {
   "cell_type": "code",
   "execution_count": null,
   "id": "5ec7eca4",
   "metadata": {},
   "outputs": [],
   "source": []
  },
  {
   "cell_type": "code",
   "execution_count": 9,
   "id": "e7a8fe6e",
   "metadata": {},
   "outputs": [],
   "source": [
    "# req : I want to add anand to the above list....?"
   ]
  },
  {
   "cell_type": "code",
   "execution_count": 10,
   "id": "083db3f8",
   "metadata": {},
   "outputs": [],
   "source": [
    "students.append('anand')"
   ]
  },
  {
   "cell_type": "code",
   "execution_count": 11,
   "id": "1a64a448",
   "metadata": {},
   "outputs": [
    {
     "name": "stdout",
     "output_type": "stream",
     "text": [
      "['ravi', 'divya', 'sadiya', 'naveen', 'ahmed', 'suresh', 'anand']\n"
     ]
    }
   ],
   "source": [
    "print(students)"
   ]
  },
  {
   "cell_type": "code",
   "execution_count": null,
   "id": "4c7e7eaf",
   "metadata": {},
   "outputs": [],
   "source": [
    "# swati"
   ]
  },
  {
   "cell_type": "code",
   "execution_count": 13,
   "id": "03cc3412",
   "metadata": {},
   "outputs": [],
   "source": [
    "students.append('swathi')"
   ]
  },
  {
   "cell_type": "code",
   "execution_count": 14,
   "id": "8431f369",
   "metadata": {},
   "outputs": [
    {
     "name": "stdout",
     "output_type": "stream",
     "text": [
      "['ravi', 'divya', 'sadiya', 'naveen', 'ahmed', 'suresh', 'anand', 'swathi']\n"
     ]
    }
   ],
   "source": [
    "print(students)"
   ]
  },
  {
   "cell_type": "code",
   "execution_count": null,
   "id": "a798dc76",
   "metadata": {},
   "outputs": [],
   "source": [
    "# req : deepa -----2nd index"
   ]
  },
  {
   "cell_type": "code",
   "execution_count": 15,
   "id": "cc0b2b12",
   "metadata": {},
   "outputs": [],
   "source": [
    "students.insert(2,'deepa')"
   ]
  },
  {
   "cell_type": "code",
   "execution_count": 17,
   "id": "dbb953b2",
   "metadata": {},
   "outputs": [
    {
     "name": "stdout",
     "output_type": "stream",
     "text": [
      "['ravi', 'divya', 'deepa', 'sadiya', 'naveen', 'ahmed', 'suresh', 'anand', 'swathi']\n"
     ]
    }
   ],
   "source": [
    "print(students)"
   ]
  },
  {
   "cell_type": "code",
   "execution_count": 18,
   "id": "41b1d294",
   "metadata": {},
   "outputs": [
    {
     "name": "stdout",
     "output_type": "stream",
     "text": [
      "Deepa\n"
     ]
    }
   ],
   "source": [
    "print(students[2].title())"
   ]
  },
  {
   "cell_type": "code",
   "execution_count": null,
   "id": "5be60925",
   "metadata": {},
   "outputs": [],
   "source": [
    "Interview Question : Can you expalin what is the difference between append and insert methids in the list datatype?"
   ]
  },
  {
   "cell_type": "code",
   "execution_count": null,
   "id": "26ff06dd",
   "metadata": {},
   "outputs": [],
   "source": [
    "Answer: We can use append when we want to add an element to the end of the list, and we can use insert when we want add an elemet to a specific position in the list."
   ]
  },
  {
   "cell_type": "code",
   "execution_count": 19,
   "id": "a48399a3",
   "metadata": {},
   "outputs": [
    {
     "name": "stdout",
     "output_type": "stream",
     "text": [
      "['ravi', 'divya', 'deepa', 'sadiya', 'naveen', 'ahmed', 'suresh', 'anand', 'swathi']\n"
     ]
    }
   ],
   "source": [
    "print(students)"
   ]
  },
  {
   "cell_type": "code",
   "execution_count": null,
   "id": "79b8a4ea",
   "metadata": {},
   "outputs": [],
   "source": [
    "# req : I want to modify ravi name to raju?"
   ]
  },
  {
   "cell_type": "code",
   "execution_count": 20,
   "id": "aa9fde76",
   "metadata": {},
   "outputs": [],
   "source": [
    "students[0] = 'raju'"
   ]
  },
  {
   "cell_type": "code",
   "execution_count": 23,
   "id": "461ff226",
   "metadata": {},
   "outputs": [
    {
     "name": "stdout",
     "output_type": "stream",
     "text": [
      "['raju', 'divya', 'deepa', 'sadiya', 'naveen', 'ahmed', 'suresh', 'anand', 'swathi']\n"
     ]
    }
   ],
   "source": [
    "print(students)"
   ]
  },
  {
   "cell_type": "code",
   "execution_count": 25,
   "id": "8ab7a746",
   "metadata": {},
   "outputs": [
    {
     "ename": "SyntaxError",
     "evalue": "invalid syntax (2679221389.py, line 1)",
     "output_type": "error",
     "traceback": [
      "\u001b[1;36m  File \u001b[1;32m\"C:\\Users\\hikha\\AppData\\Local\\Temp\\ipykernel_10352\\2679221389.py\"\u001b[1;36m, line \u001b[1;32m1\u001b[0m\n\u001b[1;33m    del students[4] =====> permanent deleting :\u001b[0m\n\u001b[1;37m                      ^\u001b[0m\n\u001b[1;31mSyntaxError\u001b[0m\u001b[1;31m:\u001b[0m invalid syntax\n"
     ]
    }
   ],
   "source": [
    "del students[4] =====> permanent deleting :"
   ]
  },
  {
   "cell_type": "code",
   "execution_count": null,
   "id": "315a5cdb",
   "metadata": {},
   "outputs": [],
   "source": []
  }
 ],
 "metadata": {
  "kernelspec": {
   "display_name": "Python 3 (ipykernel)",
   "language": "python",
   "name": "python3"
  },
  "language_info": {
   "codemirror_mode": {
    "name": "ipython",
    "version": 3
   },
   "file_extension": ".py",
   "mimetype": "text/x-python",
   "name": "python",
   "nbconvert_exporter": "python",
   "pygments_lexer": "ipython3",
   "version": "3.9.13"
  }
 },
 "nbformat": 4,
 "nbformat_minor": 5
}
