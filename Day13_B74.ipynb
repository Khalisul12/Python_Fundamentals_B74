{
 "cells": [
  {
   "cell_type": "code",
   "execution_count": null,
   "id": "916fcf12",
   "metadata": {},
   "outputs": [],
   "source": [
    "File handling in Python:"
   ]
  },
  {
   "cell_type": "code",
   "execution_count": null,
   "id": "bf3bb946",
   "metadata": {},
   "outputs": [],
   "source": []
  },
  {
   "cell_type": "code",
   "execution_count": null,
   "id": "0c0105b6",
   "metadata": {},
   "outputs": [],
   "source": [
    "1. How to read the files in Python.\n",
    "\n",
    "2. How to write the files in Python.\n",
    "\n",
    "3. How to append the files in Python."
   ]
  },
  {
   "cell_type": "code",
   "execution_count": null,
   "id": "fa5c2bc9",
   "metadata": {},
   "outputs": [],
   "source": []
  },
  {
   "cell_type": "code",
   "execution_count": null,
   "id": "67d4dee5",
   "metadata": {},
   "outputs": [],
   "source": [
    "1. How to read the files in Python."
   ]
  },
  {
   "cell_type": "code",
   "execution_count": null,
   "id": "9d377068",
   "metadata": {},
   "outputs": [],
   "source": []
  },
  {
   "cell_type": "code",
   "execution_count": 1,
   "id": "131a045c",
   "metadata": {},
   "outputs": [],
   "source": [
    "file = open('numbers.txt','r')"
   ]
  },
  {
   "cell_type": "code",
   "execution_count": 2,
   "id": "a9fdd777",
   "metadata": {},
   "outputs": [
    {
     "name": "stdout",
     "output_type": "stream",
     "text": [
      "123\n",
      "345\n",
      "678\n"
     ]
    }
   ],
   "source": [
    "print(file.read())"
   ]
  },
  {
   "cell_type": "code",
   "execution_count": null,
   "id": "64555400",
   "metadata": {},
   "outputs": [],
   "source": [
    "2. How to write the files in Python."
   ]
  },
  {
   "cell_type": "code",
   "execution_count": null,
   "id": "eb82d365",
   "metadata": {},
   "outputs": [],
   "source": []
  },
  {
   "cell_type": "code",
   "execution_count": 6,
   "id": "dd4bbe2c",
   "metadata": {},
   "outputs": [],
   "source": [
    "file = open('numbers.txt','w')"
   ]
  },
  {
   "cell_type": "code",
   "execution_count": 4,
   "id": "06ba0e95",
   "metadata": {},
   "outputs": [],
   "source": [
    "file.write(\"This is test\")\n",
    "file.write(\"to verify how the data is coming\")\n",
    "file.close()"
   ]
  },
  {
   "cell_type": "code",
   "execution_count": 5,
   "id": "6e8c860a",
   "metadata": {},
   "outputs": [
    {
     "ename": "ValueError",
     "evalue": "I/O operation on closed file.",
     "output_type": "error",
     "traceback": [
      "\u001b[1;31m---------------------------------------------------------------------------\u001b[0m",
      "\u001b[1;31mValueError\u001b[0m                                Traceback (most recent call last)",
      "\u001b[1;32m~\\AppData\\Local\\Temp\\ipykernel_164\\1097866510.py\u001b[0m in \u001b[0;36m<module>\u001b[1;34m\u001b[0m\n\u001b[1;32m----> 1\u001b[1;33m \u001b[0mprint\u001b[0m\u001b[1;33m(\u001b[0m\u001b[0mfile\u001b[0m\u001b[1;33m.\u001b[0m\u001b[0mread\u001b[0m\u001b[1;33m(\u001b[0m\u001b[1;33m)\u001b[0m\u001b[1;33m)\u001b[0m\u001b[1;33m\u001b[0m\u001b[1;33m\u001b[0m\u001b[0m\n\u001b[0m",
      "\u001b[1;31mValueError\u001b[0m: I/O operation on closed file."
     ]
    }
   ],
   "source": [
    "print(file.read())"
   ]
  },
  {
   "cell_type": "code",
   "execution_count": 7,
   "id": "e101fc17",
   "metadata": {},
   "outputs": [
    {
     "data": {
      "text/plain": [
       "32"
      ]
     },
     "execution_count": 7,
     "metadata": {},
     "output_type": "execute_result"
    }
   ],
   "source": [
    "file.write(\"This is test\")\n",
    "file.write(\"to verify how the data is coming\")\n",
    "#file.close()"
   ]
  },
  {
   "cell_type": "code",
   "execution_count": 8,
   "id": "a5a6eb13",
   "metadata": {},
   "outputs": [
    {
     "ename": "UnsupportedOperation",
     "evalue": "not readable",
     "output_type": "error",
     "traceback": [
      "\u001b[1;31m---------------------------------------------------------------------------\u001b[0m",
      "\u001b[1;31mUnsupportedOperation\u001b[0m                      Traceback (most recent call last)",
      "\u001b[1;32m~\\AppData\\Local\\Temp\\ipykernel_164\\1097866510.py\u001b[0m in \u001b[0;36m<module>\u001b[1;34m\u001b[0m\n\u001b[1;32m----> 1\u001b[1;33m \u001b[0mprint\u001b[0m\u001b[1;33m(\u001b[0m\u001b[0mfile\u001b[0m\u001b[1;33m.\u001b[0m\u001b[0mread\u001b[0m\u001b[1;33m(\u001b[0m\u001b[1;33m)\u001b[0m\u001b[1;33m)\u001b[0m\u001b[1;33m\u001b[0m\u001b[1;33m\u001b[0m\u001b[0m\n\u001b[0m",
      "\u001b[1;31mUnsupportedOperation\u001b[0m: not readable"
     ]
    }
   ],
   "source": [
    "print(file.read())"
   ]
  },
  {
   "cell_type": "code",
   "execution_count": null,
   "id": "d1764338",
   "metadata": {},
   "outputs": [],
   "source": []
  },
  {
   "cell_type": "code",
   "execution_count": 9,
   "id": "09721fbf",
   "metadata": {},
   "outputs": [],
   "source": [
    "file = open('numbers.txt','r')"
   ]
  },
  {
   "cell_type": "code",
   "execution_count": 10,
   "id": "f0919d10",
   "metadata": {},
   "outputs": [
    {
     "name": "stdout",
     "output_type": "stream",
     "text": [
      "This is testto verify how the data is coming\n"
     ]
    }
   ],
   "source": [
    "print(file.read())"
   ]
  },
  {
   "cell_type": "code",
   "execution_count": null,
   "id": "c70200a9",
   "metadata": {},
   "outputs": [],
   "source": [
    "3. How to append the files in Python."
   ]
  },
  {
   "cell_type": "code",
   "execution_count": null,
   "id": "0d07d8cb",
   "metadata": {},
   "outputs": [],
   "source": [
    "append mode = old + new data will be there in the file."
   ]
  },
  {
   "cell_type": "code",
   "execution_count": null,
   "id": "8bca0ebc",
   "metadata": {},
   "outputs": [],
   "source": []
  },
  {
   "cell_type": "code",
   "execution_count": 11,
   "id": "49768fec",
   "metadata": {},
   "outputs": [],
   "source": [
    "file = open('numbers.txt','a')"
   ]
  },
  {
   "cell_type": "code",
   "execution_count": 12,
   "id": "372ec8f5",
   "metadata": {},
   "outputs": [
    {
     "data": {
      "text/plain": [
       "29"
      ]
     },
     "execution_count": 12,
     "metadata": {},
     "output_type": "execute_result"
    }
   ],
   "source": [
    "file.write(\"\\nthis is the append operation\")"
   ]
  },
  {
   "cell_type": "code",
   "execution_count": 13,
   "id": "ac50339c",
   "metadata": {},
   "outputs": [],
   "source": [
    "file = open('numbers.txt','r')"
   ]
  },
  {
   "cell_type": "code",
   "execution_count": 14,
   "id": "c3f04975",
   "metadata": {},
   "outputs": [
    {
     "name": "stdout",
     "output_type": "stream",
     "text": [
      "This is testto verify how the data is coming\n",
      "this is the append operation\n"
     ]
    }
   ],
   "source": [
    "print(file.read())"
   ]
  },
  {
   "cell_type": "code",
   "execution_count": 15,
   "id": "409d5fdb",
   "metadata": {},
   "outputs": [
    {
     "name": "stdout",
     "output_type": "stream",
     "text": [
      "This is testto verify how the data is coming\n",
      "this is the append operation\n"
     ]
    }
   ],
   "source": [
    "with open('numbers.txt') as file_object:\n",
    "    contents = file_object.read()\n",
    "print(contents)"
   ]
  },
  {
   "cell_type": "code",
   "execution_count": null,
   "id": "a2f380f5",
   "metadata": {},
   "outputs": [],
   "source": []
  }
 ],
 "metadata": {
  "kernelspec": {
   "display_name": "Python 3 (ipykernel)",
   "language": "python",
   "name": "python3"
  },
  "language_info": {
   "codemirror_mode": {
    "name": "ipython",
    "version": 3
   },
   "file_extension": ".py",
   "mimetype": "text/x-python",
   "name": "python",
   "nbconvert_exporter": "python",
   "pygments_lexer": "ipython3",
   "version": "3.9.13"
  }
 },
 "nbformat": 4,
 "nbformat_minor": 5
}
