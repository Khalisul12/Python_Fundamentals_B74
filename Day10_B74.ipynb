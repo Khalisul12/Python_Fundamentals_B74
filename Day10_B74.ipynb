{
 "cells": [
  {
   "cell_type": "code",
   "execution_count": null,
   "id": "07098aa9",
   "metadata": {},
   "outputs": [],
   "source": [
    "Continutation with conditional statements:"
   ]
  },
  {
   "cell_type": "code",
   "execution_count": null,
   "id": "93795cf5",
   "metadata": {},
   "outputs": [],
   "source": [
    "if else conditions."
   ]
  },
  {
   "cell_type": "code",
   "execution_count": null,
   "id": "0cde640b",
   "metadata": {},
   "outputs": [],
   "source": []
  },
  {
   "cell_type": "code",
   "execution_count": null,
   "id": "de347cb9",
   "metadata": {},
   "outputs": [],
   "source": [
    "# req : to built a voting application"
   ]
  },
  {
   "cell_type": "code",
   "execution_count": null,
   "id": "635c099e",
   "metadata": {},
   "outputs": [],
   "source": [
    "18 or >=18 years of the age"
   ]
  },
  {
   "cell_type": "code",
   "execution_count": null,
   "id": "8cd445ff",
   "metadata": {},
   "outputs": [],
   "source": []
  },
  {
   "cell_type": "code",
   "execution_count": 1,
   "id": "920ce70f",
   "metadata": {},
   "outputs": [
    {
     "name": "stdout",
     "output_type": "stream",
     "text": [
      "enter your age25\n",
      "25\n"
     ]
    }
   ],
   "source": [
    "age = input('enter your age')\n",
    "print(age)"
   ]
  },
  {
   "cell_type": "code",
   "execution_count": 2,
   "id": "1b1e9ea7",
   "metadata": {},
   "outputs": [
    {
     "data": {
      "text/plain": [
       "str"
      ]
     },
     "execution_count": 2,
     "metadata": {},
     "output_type": "execute_result"
    }
   ],
   "source": [
    "type(age)"
   ]
  },
  {
   "cell_type": "code",
   "execution_count": null,
   "id": "32e16fcd",
   "metadata": {},
   "outputs": [],
   "source": [
    "Note : By default input method will be taking the input as in the string format."
   ]
  },
  {
   "cell_type": "code",
   "execution_count": null,
   "id": "bd796083",
   "metadata": {},
   "outputs": [],
   "source": []
  },
  {
   "cell_type": "code",
   "execution_count": 3,
   "id": "f3e063fa",
   "metadata": {},
   "outputs": [
    {
     "name": "stdout",
     "output_type": "stream",
     "text": [
      "enter your age26\n",
      "26\n"
     ]
    }
   ],
   "source": [
    "age = input('enter your age')\n",
    "age = int(age) # Casting of data type....\n",
    "\n",
    "print(age)"
   ]
  },
  {
   "cell_type": "code",
   "execution_count": 4,
   "id": "1559500e",
   "metadata": {},
   "outputs": [
    {
     "data": {
      "text/plain": [
       "int"
      ]
     },
     "execution_count": 4,
     "metadata": {},
     "output_type": "execute_result"
    }
   ],
   "source": [
    "type(age)"
   ]
  },
  {
   "cell_type": "code",
   "execution_count": 5,
   "id": "8cadc0d7",
   "metadata": {},
   "outputs": [
    {
     "name": "stdout",
     "output_type": "stream",
     "text": [
      "You are eligible to vote\n"
     ]
    }
   ],
   "source": [
    "if age >=18:\n",
    "    print(\"You are eligible to vote\")\n",
    "else:\n",
    "    print(\"Try next year\")"
   ]
  },
  {
   "cell_type": "code",
   "execution_count": 6,
   "id": "b43a3e8d",
   "metadata": {},
   "outputs": [
    {
     "name": "stdout",
     "output_type": "stream",
     "text": [
      "enter your age22\n",
      "You are eligible to vote\n"
     ]
    }
   ],
   "source": [
    "age = input('enter your age')\n",
    "age = int(age)\n",
    "\n",
    "if age >=18:\n",
    "    print(\"You are eligible to vote\")\n",
    "else:\n",
    "    print(\"Try next year\")"
   ]
  },
  {
   "cell_type": "code",
   "execution_count": null,
   "id": "5d5422ff",
   "metadata": {},
   "outputs": [],
   "source": []
  },
  {
   "cell_type": "code",
   "execution_count": null,
   "id": "fb49294a",
   "metadata": {},
   "outputs": [],
   "source": [
    "Introduction to Python function :"
   ]
  },
  {
   "cell_type": "code",
   "execution_count": 10,
   "id": "16aa09f8",
   "metadata": {},
   "outputs": [],
   "source": [
    "# defining / declaring the function\n",
    "\n",
    "def greet():\n",
    "    print(\"Hello!\")"
   ]
  },
  {
   "cell_type": "code",
   "execution_count": 11,
   "id": "584ac116",
   "metadata": {},
   "outputs": [
    {
     "name": "stdout",
     "output_type": "stream",
     "text": [
      "Hello!\n"
     ]
    }
   ],
   "source": [
    "greet() # calling the function"
   ]
  },
  {
   "cell_type": "code",
   "execution_count": 12,
   "id": "c9515ae2",
   "metadata": {},
   "outputs": [
    {
     "name": "stdout",
     "output_type": "stream",
     "text": [
      "Hello!\n"
     ]
    }
   ],
   "source": [
    "greet()"
   ]
  },
  {
   "cell_type": "code",
   "execution_count": null,
   "id": "9228947d",
   "metadata": {},
   "outputs": [],
   "source": []
  },
  {
   "cell_type": "code",
   "execution_count": null,
   "id": "e265d3c5",
   "metadata": {},
   "outputs": [],
   "source": [
    "Understanding the concept of parameters and arguments :"
   ]
  },
  {
   "cell_type": "code",
   "execution_count": null,
   "id": "e10bbc3e",
   "metadata": {},
   "outputs": [],
   "source": []
  },
  {
   "cell_type": "code",
   "execution_count": null,
   "id": "a3619b49",
   "metadata": {},
   "outputs": [],
   "source": [
    "# req : create a funtion caleed pet_details\n",
    "\n",
    "# Define the parametres as pet_name and animal_type"
   ]
  },
  {
   "cell_type": "code",
   "execution_count": null,
   "id": "b662f268",
   "metadata": {},
   "outputs": [],
   "source": []
  },
  {
   "cell_type": "code",
   "execution_count": 13,
   "id": "bdc7b095",
   "metadata": {},
   "outputs": [],
   "source": [
    "def pet_details(pet_name,animal_type):\n",
    "    print(f\"my animal name is {pet_name}\")\n",
    "    print(f\"my pet name is {animal_type}\")"
   ]
  },
  {
   "cell_type": "code",
   "execution_count": 14,
   "id": "c046d661",
   "metadata": {},
   "outputs": [
    {
     "name": "stdout",
     "output_type": "stream",
     "text": [
      "my animal name is rosy\n",
      "my pet name is dog\n"
     ]
    }
   ],
   "source": [
    "pet_details('rosy','dog')"
   ]
  },
  {
   "cell_type": "code",
   "execution_count": 15,
   "id": "aa00f660",
   "metadata": {},
   "outputs": [
    {
     "name": "stdout",
     "output_type": "stream",
     "text": [
      "my animal name is jerry\n",
      "my pet name is cat\n"
     ]
    }
   ],
   "source": [
    "pet_details('jerry','cat')"
   ]
  },
  {
   "cell_type": "code",
   "execution_count": 16,
   "id": "2a2f5b31",
   "metadata": {},
   "outputs": [
    {
     "ename": "TypeError",
     "evalue": "pet_details() missing 1 required positional argument: 'animal_type'",
     "output_type": "error",
     "traceback": [
      "\u001b[1;31m---------------------------------------------------------------------------\u001b[0m",
      "\u001b[1;31mTypeError\u001b[0m                                 Traceback (most recent call last)",
      "\u001b[1;32m~\\AppData\\Local\\Temp\\ipykernel_11152\\1949672081.py\u001b[0m in \u001b[0;36m<module>\u001b[1;34m\u001b[0m\n\u001b[1;32m----> 1\u001b[1;33m \u001b[0mpet_details\u001b[0m\u001b[1;33m(\u001b[0m\u001b[1;34m'deo'\u001b[0m\u001b[1;33m)\u001b[0m\u001b[1;33m\u001b[0m\u001b[1;33m\u001b[0m\u001b[0m\n\u001b[0m",
      "\u001b[1;31mTypeError\u001b[0m: pet_details() missing 1 required positional argument: 'animal_type'"
     ]
    }
   ],
   "source": [
    "pet_details('deo')"
   ]
  },
  {
   "cell_type": "code",
   "execution_count": null,
   "id": "45d68e1f",
   "metadata": {},
   "outputs": [],
   "source": [
    "Types of arguments :\n",
    "    \n",
    "    1. positional arguments\n",
    "    \n",
    "    2. keyword arguments\n",
    "    \n",
    "    3. default arguments"
   ]
  },
  {
   "cell_type": "code",
   "execution_count": 17,
   "id": "4c7da62d",
   "metadata": {},
   "outputs": [
    {
     "name": "stdout",
     "output_type": "stream",
     "text": [
      "my animal name is rabbit\n",
      "my pet name is ruby\n"
     ]
    }
   ],
   "source": [
    "pet_details('rabbit','ruby')"
   ]
  },
  {
   "cell_type": "code",
   "execution_count": 18,
   "id": "7cf4771a",
   "metadata": {},
   "outputs": [
    {
     "name": "stdout",
     "output_type": "stream",
     "text": [
      "my animal name is ruby\n",
      "my pet name is rabbit\n"
     ]
    }
   ],
   "source": [
    "pet_details('ruby','rabbit')"
   ]
  },
  {
   "cell_type": "code",
   "execution_count": 19,
   "id": "d1fcf4b8",
   "metadata": {},
   "outputs": [
    {
     "name": "stdout",
     "output_type": "stream",
     "text": [
      "my animal name is ruby\n",
      "my pet name is rabbit\n"
     ]
    }
   ],
   "source": [
    "pet_details(animal_type='rabbit',pet_name='ruby')"
   ]
  },
  {
   "cell_type": "code",
   "execution_count": null,
   "id": "d4d29c58",
   "metadata": {},
   "outputs": [],
   "source": []
  },
  {
   "cell_type": "code",
   "execution_count": null,
   "id": "ab868e46",
   "metadata": {},
   "outputs": [],
   "source": []
  }
 ],
 "metadata": {
  "kernelspec": {
   "display_name": "Python 3 (ipykernel)",
   "language": "python",
   "name": "python3"
  },
  "language_info": {
   "codemirror_mode": {
    "name": "ipython",
    "version": 3
   },
   "file_extension": ".py",
   "mimetype": "text/x-python",
   "name": "python",
   "nbconvert_exporter": "python",
   "pygments_lexer": "ipython3",
   "version": "3.9.13"
  }
 },
 "nbformat": 4,
 "nbformat_minor": 5
}
