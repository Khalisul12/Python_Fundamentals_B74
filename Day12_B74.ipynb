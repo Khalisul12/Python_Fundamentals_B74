{
 "cells": [
  {
   "cell_type": "code",
   "execution_count": null,
   "id": "a18c65b6",
   "metadata": {},
   "outputs": [],
   "source": [
    "Introduction to Python Classes:"
   ]
  },
  {
   "cell_type": "code",
   "execution_count": null,
   "id": "54fdb05a",
   "metadata": {},
   "outputs": [],
   "source": [
    "Class : It is blue print of the program defined at the high level.====> we have to use a keyword called class.\n",
    "\n",
    "method: A function written inside the class is called as a method    ====> def\n",
    "    \n",
    "attribute :  A variable written/declared inside the class is called as an attribute.\n",
    "    \n",
    "self : A self is a temporary place holder for an object.\n",
    "    \n",
    "object/instance : It is an access/entry point to access the class methods."
   ]
  },
  {
   "cell_type": "code",
   "execution_count": null,
   "id": "21857803",
   "metadata": {},
   "outputs": [],
   "source": []
  },
  {
   "cell_type": "code",
   "execution_count": 1,
   "id": "244f9924",
   "metadata": {},
   "outputs": [],
   "source": [
    "class ClassName():       # Class name\n",
    "    def createname(self,name): # method\n",
    "        self.name = name  # attribute  test.name = 'padma'\n",
    "        \n",
    "    def displayname(self):  # method\n",
    "        return self.name\n",
    "    \n",
    "    def greetname(self):  # method\n",
    "        print(f\"Hello, {self.name}\")"
   ]
  },
  {
   "cell_type": "code",
   "execution_count": 2,
   "id": "64fc6219",
   "metadata": {},
   "outputs": [],
   "source": [
    "test = ClassName()"
   ]
  },
  {
   "cell_type": "code",
   "execution_count": 3,
   "id": "ce103979",
   "metadata": {},
   "outputs": [],
   "source": [
    "test.createname('padma')"
   ]
  },
  {
   "cell_type": "code",
   "execution_count": 4,
   "id": "6af14708",
   "metadata": {},
   "outputs": [
    {
     "data": {
      "text/plain": [
       "'padma'"
      ]
     },
     "execution_count": 4,
     "metadata": {},
     "output_type": "execute_result"
    }
   ],
   "source": [
    "test.displayname()"
   ]
  },
  {
   "cell_type": "code",
   "execution_count": 5,
   "id": "b2ceaa59",
   "metadata": {},
   "outputs": [
    {
     "name": "stdout",
     "output_type": "stream",
     "text": [
      "Hello, padma\n"
     ]
    }
   ],
   "source": [
    "test.greetname()"
   ]
  },
  {
   "cell_type": "code",
   "execution_count": 6,
   "id": "c5335247",
   "metadata": {},
   "outputs": [],
   "source": [
    "test2 = ClassName()"
   ]
  },
  {
   "cell_type": "code",
   "execution_count": 8,
   "id": "2fc99c80",
   "metadata": {},
   "outputs": [
    {
     "data": {
      "text/plain": [
       "'divya'"
      ]
     },
     "execution_count": 8,
     "metadata": {},
     "output_type": "execute_result"
    }
   ],
   "source": [
    "test2.displayname()"
   ]
  },
  {
   "cell_type": "code",
   "execution_count": 7,
   "id": "9068a925",
   "metadata": {},
   "outputs": [],
   "source": [
    "test2.createname('divya')"
   ]
  },
  {
   "cell_type": "code",
   "execution_count": 9,
   "id": "4fe8a8f7",
   "metadata": {},
   "outputs": [
    {
     "name": "stdout",
     "output_type": "stream",
     "text": [
      "Hello, divya\n"
     ]
    }
   ],
   "source": [
    "test2.greetname()"
   ]
  },
  {
   "cell_type": "code",
   "execution_count": null,
   "id": "b121a71b",
   "metadata": {},
   "outputs": [],
   "source": []
  },
  {
   "cell_type": "code",
   "execution_count": null,
   "id": "bf4135ab",
   "metadata": {},
   "outputs": [],
   "source": []
  },
  {
   "cell_type": "code",
   "execution_count": null,
   "id": "4031c482",
   "metadata": {},
   "outputs": [],
   "source": [
    "OOPS-----> Object Oriented Programming"
   ]
  },
  {
   "cell_type": "code",
   "execution_count": null,
   "id": "0201f189",
   "metadata": {},
   "outputs": [],
   "source": []
  },
  {
   "cell_type": "code",
   "execution_count": null,
   "id": "fc3671cb",
   "metadata": {},
   "outputs": [],
   "source": [
    "Understanding the concept of cnstructor : It is called as a special method...!"
   ]
  },
  {
   "cell_type": "code",
   "execution_count": null,
   "id": "8c6e657d",
   "metadata": {},
   "outputs": [],
   "source": [
    "__init__ ====> initializing the attributes and the methods."
   ]
  },
  {
   "cell_type": "code",
   "execution_count": null,
   "id": "de447534",
   "metadata": {},
   "outputs": [],
   "source": []
  },
  {
   "cell_type": "code",
   "execution_count": 10,
   "id": "f6464af3",
   "metadata": {},
   "outputs": [],
   "source": [
    "class Dog:\n",
    "    \"\"\"creating the dog class\"\"\"  # dic string\n",
    "    \n",
    "    def __init__(self,name,age):\n",
    "        self.name = name\n",
    "        self.age = age\n",
    "        \n",
    "    def sit(self):\n",
    "        print(\"The dog is sitting\")\n",
    "        \n",
    "    def roll_over(self):\n",
    "        print(f\"the dog is rolling over\")\n",
    "        \n",
    "    def details(self):\n",
    "        print(f\"I have a dog named {self.name}\")\n",
    "        print(f\"It is of {self.age} years old\")"
   ]
  },
  {
   "cell_type": "code",
   "execution_count": 11,
   "id": "d50a5317",
   "metadata": {},
   "outputs": [
    {
     "ename": "TypeError",
     "evalue": "__init__() missing 2 required positional arguments: 'name' and 'age'",
     "output_type": "error",
     "traceback": [
      "\u001b[1;31m---------------------------------------------------------------------------\u001b[0m",
      "\u001b[1;31mTypeError\u001b[0m                                 Traceback (most recent call last)",
      "\u001b[1;32m~\\AppData\\Local\\Temp\\ipykernel_16872\\3226080032.py\u001b[0m in \u001b[0;36m<module>\u001b[1;34m\u001b[0m\n\u001b[1;32m----> 1\u001b[1;33m \u001b[0mmy_dog\u001b[0m \u001b[1;33m=\u001b[0m \u001b[0mDog\u001b[0m\u001b[1;33m(\u001b[0m\u001b[1;33m)\u001b[0m\u001b[1;33m\u001b[0m\u001b[1;33m\u001b[0m\u001b[0m\n\u001b[0m",
      "\u001b[1;31mTypeError\u001b[0m: __init__() missing 2 required positional arguments: 'name' and 'age'"
     ]
    }
   ],
   "source": [
    "my_dog = Dog()"
   ]
  },
  {
   "cell_type": "code",
   "execution_count": 12,
   "id": "115eb0bd",
   "metadata": {},
   "outputs": [],
   "source": [
    "my_dog = Dog('bruno',6)"
   ]
  },
  {
   "cell_type": "code",
   "execution_count": 13,
   "id": "be1c6b9d",
   "metadata": {},
   "outputs": [
    {
     "name": "stdout",
     "output_type": "stream",
     "text": [
      "The dog is sitting\n"
     ]
    }
   ],
   "source": [
    "my_dog.sit()"
   ]
  },
  {
   "cell_type": "code",
   "execution_count": 14,
   "id": "e0e8dcf5",
   "metadata": {},
   "outputs": [
    {
     "name": "stdout",
     "output_type": "stream",
     "text": [
      "the dog is rolling over\n"
     ]
    }
   ],
   "source": [
    "my_dog.roll_over()"
   ]
  },
  {
   "cell_type": "code",
   "execution_count": 15,
   "id": "3a22f665",
   "metadata": {},
   "outputs": [
    {
     "name": "stdout",
     "output_type": "stream",
     "text": [
      "I have a dog named bruno\n",
      "It is of 6 years old\n"
     ]
    }
   ],
   "source": [
    "my_dog.details()"
   ]
  },
  {
   "cell_type": "code",
   "execution_count": null,
   "id": "56657ddb",
   "metadata": {},
   "outputs": [],
   "source": []
  },
  {
   "cell_type": "code",
   "execution_count": 17,
   "id": "bc2ec4e4",
   "metadata": {},
   "outputs": [],
   "source": [
    "your_dog = Dog(\"rex\",3)"
   ]
  },
  {
   "cell_type": "code",
   "execution_count": 18,
   "id": "267c7784",
   "metadata": {},
   "outputs": [
    {
     "name": "stdout",
     "output_type": "stream",
     "text": [
      "the dog is rolling over\n"
     ]
    }
   ],
   "source": [
    "your_dog.roll_over()"
   ]
  },
  {
   "cell_type": "code",
   "execution_count": 19,
   "id": "842489e2",
   "metadata": {},
   "outputs": [
    {
     "name": "stdout",
     "output_type": "stream",
     "text": [
      "The dog is sitting\n"
     ]
    }
   ],
   "source": [
    "your_dog.sit()"
   ]
  },
  {
   "cell_type": "code",
   "execution_count": 20,
   "id": "6fc4b953",
   "metadata": {},
   "outputs": [
    {
     "name": "stdout",
     "output_type": "stream",
     "text": [
      "I have a dog named rex\n",
      "It is of 3 years old\n"
     ]
    }
   ],
   "source": [
    "your_dog.details()"
   ]
  },
  {
   "cell_type": "code",
   "execution_count": null,
   "id": "0370cb73",
   "metadata": {},
   "outputs": [],
   "source": []
  }
 ],
 "metadata": {
  "kernelspec": {
   "display_name": "Python 3 (ipykernel)",
   "language": "python",
   "name": "python3"
  },
  "language_info": {
   "codemirror_mode": {
    "name": "ipython",
    "version": 3
   },
   "file_extension": ".py",
   "mimetype": "text/x-python",
   "name": "python",
   "nbconvert_exporter": "python",
   "pygments_lexer": "ipython3",
   "version": "3.9.13"
  }
 },
 "nbformat": 4,
 "nbformat_minor": 5
}
