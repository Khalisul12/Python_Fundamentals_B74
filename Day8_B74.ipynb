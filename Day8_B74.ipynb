{
 "cells": [
  {
   "cell_type": "code",
   "execution_count": null,
   "id": "c08a3534",
   "metadata": {},
   "outputs": [],
   "source": [
    "Introduction to dictionaries :***"
   ]
  },
  {
   "cell_type": "code",
   "execution_count": null,
   "id": "f3278dcc",
   "metadata": {},
   "outputs": [],
   "source": [
    "Defination : A dictionaries are the combination of key - value pairs.\n",
    "    \n",
    "Classification : It is classified as a mutable datatype.\n",
    "    \n",
    "How to declare a dictionary...()"
   ]
  },
  {
   "cell_type": "code",
   "execution_count": null,
   "id": "55ffbaf9",
   "metadata": {},
   "outputs": [],
   "source": [
    "Note: In almost all the real world applications dict data type"
   ]
  },
  {
   "cell_type": "code",
   "execution_count": null,
   "id": "8adb888a",
   "metadata": {},
   "outputs": [],
   "source": []
  },
  {
   "cell_type": "code",
   "execution_count": null,
   "id": "bbb38efb",
   "metadata": {},
   "outputs": [],
   "source": [
    "# req : creating an alien"
   ]
  },
  {
   "cell_type": "code",
   "execution_count": 1,
   "id": "c3ebc58f",
   "metadata": {},
   "outputs": [],
   "source": [
    "alien = {'color':'green','points':5,'level':1}"
   ]
  },
  {
   "cell_type": "code",
   "execution_count": 2,
   "id": "c5d64a48",
   "metadata": {},
   "outputs": [
    {
     "name": "stdout",
     "output_type": "stream",
     "text": [
      "{'color': 'green', 'points': 5, 'level': 1}\n"
     ]
    }
   ],
   "source": [
    "print(alien)"
   ]
  },
  {
   "cell_type": "code",
   "execution_count": 3,
   "id": "92b349f7",
   "metadata": {},
   "outputs": [
    {
     "data": {
      "text/plain": [
       "dict"
      ]
     },
     "execution_count": 3,
     "metadata": {},
     "output_type": "execute_result"
    }
   ],
   "source": [
    "type(alien)"
   ]
  },
  {
   "cell_type": "code",
   "execution_count": null,
   "id": "b4f48bc9",
   "metadata": {},
   "outputs": [],
   "source": [
    "# How to get the access of values from dictionaries:"
   ]
  },
  {
   "cell_type": "code",
   "execution_count": null,
   "id": "2cff2a3d",
   "metadata": {},
   "outputs": [],
   "source": [
    "# Req : I want to know the color of the alien."
   ]
  },
  {
   "cell_type": "code",
   "execution_count": 4,
   "id": "e96948fa",
   "metadata": {},
   "outputs": [
    {
     "name": "stdout",
     "output_type": "stream",
     "text": [
      "green\n"
     ]
    }
   ],
   "source": [
    "print(alien['color'])"
   ]
  },
  {
   "cell_type": "code",
   "execution_count": null,
   "id": "e6dada0c",
   "metadata": {},
   "outputs": [],
   "source": [
    "Note : Give the key and get the value....!"
   ]
  },
  {
   "cell_type": "code",
   "execution_count": 5,
   "id": "e3d874fd",
   "metadata": {},
   "outputs": [
    {
     "name": "stdout",
     "output_type": "stream",
     "text": [
      "5\n"
     ]
    }
   ],
   "source": [
    "print(alien['points'])"
   ]
  },
  {
   "cell_type": "code",
   "execution_count": 6,
   "id": "b41341d0",
   "metadata": {},
   "outputs": [
    {
     "ename": "KeyError",
     "evalue": "1",
     "output_type": "error",
     "traceback": [
      "\u001b[1;31m---------------------------------------------------------------------------\u001b[0m",
      "\u001b[1;31mKeyError\u001b[0m                                  Traceback (most recent call last)",
      "\u001b[1;32m~\\AppData\\Local\\Temp\\ipykernel_1940\\2937663479.py\u001b[0m in \u001b[0;36m<module>\u001b[1;34m\u001b[0m\n\u001b[1;32m----> 1\u001b[1;33m \u001b[0mprint\u001b[0m\u001b[1;33m(\u001b[0m\u001b[0malien\u001b[0m\u001b[1;33m[\u001b[0m\u001b[1;36m1\u001b[0m\u001b[1;33m]\u001b[0m\u001b[1;33m)\u001b[0m\u001b[1;33m\u001b[0m\u001b[1;33m\u001b[0m\u001b[0m\n\u001b[0m",
      "\u001b[1;31mKeyError\u001b[0m: 1"
     ]
    }
   ],
   "source": [
    "print(alien[1])"
   ]
  },
  {
   "cell_type": "code",
   "execution_count": 7,
   "id": "17ac64df",
   "metadata": {},
   "outputs": [
    {
     "name": "stdout",
     "output_type": "stream",
     "text": [
      "{'color': 'green', 'points': 5, 'level': 1}\n"
     ]
    }
   ],
   "source": [
    "print(alien)"
   ]
  },
  {
   "cell_type": "code",
   "execution_count": null,
   "id": "44e2dc3f",
   "metadata": {},
   "outputs": [],
   "source": [
    "# req : How to add new key value pairs to the dictionaries?"
   ]
  },
  {
   "cell_type": "code",
   "execution_count": null,
   "id": "1c127d2f",
   "metadata": {},
   "outputs": [],
   "source": [
    "# req : current_status : 'beginner'"
   ]
  },
  {
   "cell_type": "code",
   "execution_count": 8,
   "id": "29bb5815",
   "metadata": {},
   "outputs": [],
   "source": [
    "alien['current_status'] = 'beginner'"
   ]
  },
  {
   "cell_type": "code",
   "execution_count": 9,
   "id": "43f4db7b",
   "metadata": {},
   "outputs": [
    {
     "name": "stdout",
     "output_type": "stream",
     "text": [
      "{'color': 'green', 'points': 5, 'level': 1, 'current_status': 'beginner'}\n"
     ]
    }
   ],
   "source": [
    "print(alien)"
   ]
  },
  {
   "cell_type": "code",
   "execution_count": null,
   "id": "7a8e3f24",
   "metadata": {},
   "outputs": [],
   "source": [
    "# How to modify the value"
   ]
  },
  {
   "cell_type": "code",
   "execution_count": null,
   "id": "99943595",
   "metadata": {},
   "outputs": [],
   "source": [
    "# color---yellow?"
   ]
  },
  {
   "cell_type": "code",
   "execution_count": 10,
   "id": "752d1d9c",
   "metadata": {},
   "outputs": [],
   "source": [
    "alien['color'] = 'yellow'"
   ]
  },
  {
   "cell_type": "code",
   "execution_count": 11,
   "id": "06fdd267",
   "metadata": {},
   "outputs": [
    {
     "name": "stdout",
     "output_type": "stream",
     "text": [
      "{'color': 'yellow', 'points': 5, 'level': 1, 'current_status': 'beginner'}\n"
     ]
    }
   ],
   "source": [
    "print(alien)"
   ]
  },
  {
   "cell_type": "code",
   "execution_count": null,
   "id": "eeb43f45",
   "metadata": {},
   "outputs": [],
   "source": [
    "# How to delete the key value pairs from the dictionaries?"
   ]
  },
  {
   "cell_type": "code",
   "execution_count": null,
   "id": "4313985e",
   "metadata": {},
   "outputs": [],
   "source": [
    "# points"
   ]
  },
  {
   "cell_type": "code",
   "execution_count": null,
   "id": "766c361a",
   "metadata": {},
   "outputs": [],
   "source": [
    "del alien['points']"
   ]
  },
  {
   "cell_type": "code",
   "execution_count": 12,
   "id": "2f399640",
   "metadata": {},
   "outputs": [
    {
     "name": "stdout",
     "output_type": "stream",
     "text": [
      "{'color': 'yellow', 'points': 5, 'level': 1, 'current_status': 'beginner'}\n"
     ]
    }
   ],
   "source": [
    "print(alien)"
   ]
  },
  {
   "cell_type": "code",
   "execution_count": null,
   "id": "95fe8711",
   "metadata": {},
   "outputs": [],
   "source": []
  },
  {
   "cell_type": "code",
   "execution_count": null,
   "id": "f0c91554",
   "metadata": {},
   "outputs": [],
   "source": [
    "# Create your facebook account?"
   ]
  },
  {
   "cell_type": "code",
   "execution_count": 13,
   "id": "3d2a7703",
   "metadata": {},
   "outputs": [],
   "source": [
    "account = {'first_name':'code','last_name':'training','user_name':'ct_academy','dob':'01-0-2022','pwd':'54321'}"
   ]
  },
  {
   "cell_type": "code",
   "execution_count": 14,
   "id": "436c6ca4",
   "metadata": {},
   "outputs": [
    {
     "name": "stdout",
     "output_type": "stream",
     "text": [
      "{'first_name': 'code', 'last_name': 'training', 'user_name': 'ct_academy', 'dob': '01-0-2022', 'pwd': '54321'}\n"
     ]
    }
   ],
   "source": [
    "print(account)"
   ]
  },
  {
   "cell_type": "code",
   "execution_count": null,
   "id": "c0501749",
   "metadata": {},
   "outputs": [],
   "source": [
    "# location : farzi_cafe"
   ]
  },
  {
   "cell_type": "code",
   "execution_count": 15,
   "id": "b1cc7d60",
   "metadata": {},
   "outputs": [],
   "source": [
    "account['location'] = 'farzi_cafe'"
   ]
  },
  {
   "cell_type": "code",
   "execution_count": 16,
   "id": "02801dc2",
   "metadata": {},
   "outputs": [
    {
     "name": "stdout",
     "output_type": "stream",
     "text": [
      "{'first_name': 'code', 'last_name': 'training', 'user_name': 'ct_academy', 'dob': '01-0-2022', 'pwd': '54321', 'location': 'farzi_cafe'}\n"
     ]
    }
   ],
   "source": [
    "print(account)"
   ]
  },
  {
   "cell_type": "code",
   "execution_count": null,
   "id": "194d0b69",
   "metadata": {},
   "outputs": [],
   "source": []
  }
 ],
 "metadata": {
  "kernelspec": {
   "display_name": "Python 3 (ipykernel)",
   "language": "python",
   "name": "python3"
  },
  "language_info": {
   "codemirror_mode": {
    "name": "ipython",
    "version": 3
   },
   "file_extension": ".py",
   "mimetype": "text/x-python",
   "name": "python",
   "nbconvert_exporter": "python",
   "pygments_lexer": "ipython3",
   "version": "3.9.13"
  }
 },
 "nbformat": 4,
 "nbformat_minor": 5
}
