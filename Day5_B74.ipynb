{
 "cells": [
  {
   "cell_type": "code",
   "execution_count": null,
   "id": "27880377",
   "metadata": {},
   "outputs": [],
   "source": [
    "Working with the list datatype:"
   ]
  },
  {
   "cell_type": "code",
   "execution_count": null,
   "id": "5c60e770",
   "metadata": {},
   "outputs": [],
   "source": [
    "Organising the list datatype:"
   ]
  },
  {
   "cell_type": "code",
   "execution_count": null,
   "id": "72234684",
   "metadata": {},
   "outputs": [],
   "source": []
  },
  {
   "cell_type": "code",
   "execution_count": 1,
   "id": "2d2c2ccc",
   "metadata": {},
   "outputs": [],
   "source": [
    "cars =['kia','benz','maruti','honda','bmw','audi']"
   ]
  },
  {
   "cell_type": "code",
   "execution_count": null,
   "id": "938a1f2e",
   "metadata": {},
   "outputs": [],
   "source": []
  },
  {
   "cell_type": "code",
   "execution_count": null,
   "id": "62242d10",
   "metadata": {},
   "outputs": [],
   "source": [
    "# req : I want to print the list in the alphabetical order -------> A-Z"
   ]
  },
  {
   "cell_type": "code",
   "execution_count": null,
   "id": "0681d2a1",
   "metadata": {},
   "outputs": [],
   "source": [
    "two approaches :\n",
    "    1. Temporary approach ========> sorted ====> we can maintain the original order of the list.\n",
    "    2. Permanent approach ========> sort ======>changes are applied permanently."
   ]
  },
  {
   "cell_type": "code",
   "execution_count": null,
   "id": "76b248ab",
   "metadata": {},
   "outputs": [],
   "source": []
  },
  {
   "cell_type": "code",
   "execution_count": 2,
   "id": "616c148e",
   "metadata": {},
   "outputs": [
    {
     "name": "stdout",
     "output_type": "stream",
     "text": [
      "['audi', 'benz', 'bmw', 'honda', 'kia', 'maruti']\n"
     ]
    }
   ],
   "source": [
    "print(sorted(cars)) # A, B, B, H, K, M =====> A-Z"
   ]
  },
  {
   "cell_type": "code",
   "execution_count": null,
   "id": "e0dc75b4",
   "metadata": {},
   "outputs": [],
   "source": [
    "benz , bmw----------------- B, B =====> e, m"
   ]
  },
  {
   "cell_type": "code",
   "execution_count": 3,
   "id": "044c1759",
   "metadata": {},
   "outputs": [
    {
     "name": "stdout",
     "output_type": "stream",
     "text": [
      "['kia', 'benz', 'maruti', 'honda', 'bmw', 'audi']\n"
     ]
    }
   ],
   "source": [
    "print(cars) # this is the original order"
   ]
  },
  {
   "cell_type": "code",
   "execution_count": 4,
   "id": "98d48242",
   "metadata": {},
   "outputs": [
    {
     "name": "stdout",
     "output_type": "stream",
     "text": [
      "['kia', 'benz', 'maruti', 'honda', 'bmw', 'audi']\n"
     ]
    }
   ],
   "source": [
    "print(cars)"
   ]
  },
  {
   "cell_type": "code",
   "execution_count": null,
   "id": "1f4152dd",
   "metadata": {},
   "outputs": [],
   "source": []
  },
  {
   "cell_type": "code",
   "execution_count": 5,
   "id": "bf9efb64",
   "metadata": {},
   "outputs": [],
   "source": [
    "cars.sort()"
   ]
  },
  {
   "cell_type": "code",
   "execution_count": 6,
   "id": "47595c34",
   "metadata": {},
   "outputs": [
    {
     "name": "stdout",
     "output_type": "stream",
     "text": [
      "['audi', 'benz', 'bmw', 'honda', 'kia', 'maruti']\n"
     ]
    }
   ],
   "source": [
    "print(cars)"
   ]
  },
  {
   "cell_type": "code",
   "execution_count": 7,
   "id": "a04f1027",
   "metadata": {},
   "outputs": [
    {
     "name": "stdout",
     "output_type": "stream",
     "text": [
      "['audi', 'benz', 'bmw', 'honda', 'kia', 'maruti']\n"
     ]
    }
   ],
   "source": [
    "print(cars)"
   ]
  },
  {
   "cell_type": "code",
   "execution_count": null,
   "id": "4881d427",
   "metadata": {},
   "outputs": [],
   "source": []
  },
  {
   "cell_type": "code",
   "execution_count": null,
   "id": "158e37fe",
   "metadata": {},
   "outputs": [],
   "source": [
    "Interview Question :- What is the difference between sorted and sort method in a list?\n",
    "    Answer:- Sorted returns the list in alphabetical order and we can also maintain the original order of the list which is temporary whereas sorted change the list alphabetical order permanentlt."
   ]
  },
  {
   "cell_type": "code",
   "execution_count": null,
   "id": "a7c40092",
   "metadata": {},
   "outputs": [],
   "source": []
  },
  {
   "cell_type": "code",
   "execution_count": null,
   "id": "a53ad281",
   "metadata": {},
   "outputs": [],
   "source": [
    "# I want to print the list in reverse order?"
   ]
  },
  {
   "cell_type": "code",
   "execution_count": 8,
   "id": "8c3095f5",
   "metadata": {},
   "outputs": [
    {
     "name": "stdout",
     "output_type": "stream",
     "text": [
      "['audi', 'benz', 'bmw', 'honda', 'kia', 'maruti']\n"
     ]
    }
   ],
   "source": [
    "print(cars)"
   ]
  },
  {
   "cell_type": "code",
   "execution_count": null,
   "id": "3633af17",
   "metadata": {},
   "outputs": [],
   "source": [
    "# maruti, kia, honda, bmw, benz and audi..."
   ]
  },
  {
   "cell_type": "code",
   "execution_count": 9,
   "id": "9a6503ff",
   "metadata": {},
   "outputs": [],
   "source": [
    "cars.reverse()"
   ]
  },
  {
   "cell_type": "code",
   "execution_count": 10,
   "id": "86592eb2",
   "metadata": {},
   "outputs": [
    {
     "name": "stdout",
     "output_type": "stream",
     "text": [
      "['maruti', 'kia', 'honda', 'bmw', 'benz', 'audi']\n"
     ]
    }
   ],
   "source": [
    "print(cars)"
   ]
  },
  {
   "cell_type": "code",
   "execution_count": null,
   "id": "14824c1f",
   "metadata": {},
   "outputs": [],
   "source": []
  },
  {
   "cell_type": "code",
   "execution_count": null,
   "id": "eebb0866",
   "metadata": {},
   "outputs": [],
   "source": [
    "# I want to know the number of elements in the list....?"
   ]
  },
  {
   "cell_type": "code",
   "execution_count": 12,
   "id": "b2718d4e",
   "metadata": {},
   "outputs": [
    {
     "data": {
      "text/plain": [
       "6"
      ]
     },
     "execution_count": 12,
     "metadata": {},
     "output_type": "execute_result"
    }
   ],
   "source": [
    "len(cars)"
   ]
  },
  {
   "cell_type": "code",
   "execution_count": null,
   "id": "d450cbaf",
   "metadata": {},
   "outputs": [],
   "source": []
  },
  {
   "cell_type": "code",
   "execution_count": null,
   "id": "bc82f72e",
   "metadata": {},
   "outputs": [],
   "source": [
    "Introduction in slicing : "
   ]
  },
  {
   "cell_type": "code",
   "execution_count": 13,
   "id": "0c29560e",
   "metadata": {},
   "outputs": [],
   "source": [
    "student = ['trinadh','akhil','ansari','david','sadiya','iqra','divya','swathi']"
   ]
  },
  {
   "cell_type": "code",
   "execution_count": 14,
   "id": "b3ec40b1",
   "metadata": {},
   "outputs": [
    {
     "name": "stdout",
     "output_type": "stream",
     "text": [
      "['trinadh', 'akhil', 'ansari', 'david', 'sadiya', 'iqra', 'divya', 'swathi']\n"
     ]
    }
   ],
   "source": [
    "print(student)"
   ]
  },
  {
   "cell_type": "code",
   "execution_count": 15,
   "id": "d7d80fbf",
   "metadata": {},
   "outputs": [
    {
     "data": {
      "text/plain": [
       "list"
      ]
     },
     "execution_count": 15,
     "metadata": {},
     "output_type": "execute_result"
    }
   ],
   "source": [
    "type(student)"
   ]
  },
  {
   "cell_type": "code",
   "execution_count": null,
   "id": "ecb3927e",
   "metadata": {},
   "outputs": [],
   "source": [
    "# general syntax of slicing"
   ]
  },
  {
   "cell_type": "code",
   "execution_count": null,
   "id": "3b35e8ee",
   "metadata": {},
   "outputs": [],
   "source": [
    "[startvalue:stopvalue:stepcount]"
   ]
  },
  {
   "cell_type": "code",
   "execution_count": null,
   "id": "8a590322",
   "metadata": {},
   "outputs": [],
   "source": [
    "Note: stop value is always exclusive to include we have to increment the index by +1."
   ]
  },
  {
   "cell_type": "code",
   "execution_count": null,
   "id": "63330281",
   "metadata": {},
   "outputs": [],
   "source": []
  },
  {
   "cell_type": "code",
   "execution_count": null,
   "id": "aa386257",
   "metadata": {},
   "outputs": [],
   "source": [
    "# req : I want trinadh and akhil in the output...?"
   ]
  },
  {
   "cell_type": "code",
   "execution_count": 16,
   "id": "7194fe9d",
   "metadata": {},
   "outputs": [
    {
     "name": "stdout",
     "output_type": "stream",
     "text": [
      "['trinadh']\n"
     ]
    }
   ],
   "source": [
    "print(student[0:1])"
   ]
  },
  {
   "cell_type": "code",
   "execution_count": 17,
   "id": "403e4950",
   "metadata": {},
   "outputs": [
    {
     "name": "stdout",
     "output_type": "stream",
     "text": [
      "['trinadh', 'akhil']\n"
     ]
    }
   ],
   "source": [
    "print(student[0:2])"
   ]
  },
  {
   "cell_type": "code",
   "execution_count": null,
   "id": "15ee820a",
   "metadata": {},
   "outputs": [],
   "source": [
    "# ansari and david......"
   ]
  },
  {
   "cell_type": "code",
   "execution_count": 18,
   "id": "f879e6b1",
   "metadata": {},
   "outputs": [
    {
     "name": "stdout",
     "output_type": "stream",
     "text": [
      "['ansari', 'david']\n"
     ]
    }
   ],
   "source": [
    "print(student[2:4])"
   ]
  },
  {
   "cell_type": "code",
   "execution_count": null,
   "id": "4604bd31",
   "metadata": {},
   "outputs": [],
   "source": [
    "# divya and swathi"
   ]
  },
  {
   "cell_type": "code",
   "execution_count": 19,
   "id": "c56793fc",
   "metadata": {},
   "outputs": [
    {
     "name": "stdout",
     "output_type": "stream",
     "text": [
      "['divya', 'swathi']\n"
     ]
    }
   ],
   "source": [
    "print(student[6:8])"
   ]
  },
  {
   "cell_type": "code",
   "execution_count": null,
   "id": "325122ce",
   "metadata": {},
   "outputs": [],
   "source": []
  },
  {
   "cell_type": "code",
   "execution_count": 20,
   "id": "bc8261cf",
   "metadata": {},
   "outputs": [
    {
     "name": "stdout",
     "output_type": "stream",
     "text": [
      "['trinadh', 'akhil', 'ansari', 'david', 'sadiya', 'iqra', 'divya', 'swathi']\n"
     ]
    }
   ],
   "source": [
    "print(student)"
   ]
  },
  {
   "cell_type": "code",
   "execution_count": 21,
   "id": "aecdf4ed",
   "metadata": {},
   "outputs": [
    {
     "name": "stdout",
     "output_type": "stream",
     "text": [
      "['trinadh', 'ansari', 'sadiya', 'divya']\n"
     ]
    }
   ],
   "source": [
    "print(student[0:8:2])"
   ]
  },
  {
   "cell_type": "code",
   "execution_count": null,
   "id": "da0fd7a3",
   "metadata": {},
   "outputs": [],
   "source": []
  }
 ],
 "metadata": {
  "kernelspec": {
   "display_name": "Python 3 (ipykernel)",
   "language": "python",
   "name": "python3"
  },
  "language_info": {
   "codemirror_mode": {
    "name": "ipython",
    "version": 3
   },
   "file_extension": ".py",
   "mimetype": "text/x-python",
   "name": "python",
   "nbconvert_exporter": "python",
   "pygments_lexer": "ipython3",
   "version": "3.9.13"
  }
 },
 "nbformat": 4,
 "nbformat_minor": 5
}
